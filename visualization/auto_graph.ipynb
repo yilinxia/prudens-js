{
 "cells": [
  {
   "cell_type": "code",
   "execution_count": 1,
   "id": "2f17a5a2-41ae-489a-943c-79ecdc8a1004",
   "metadata": {},
   "outputs": [],
   "source": [
    "import json\n",
    "import pygraphviz as pgv"
   ]
  },
  {
   "cell_type": "markdown",
   "id": "8c954db7-b247-4701-9003-7b0364c8c88b",
   "metadata": {},
   "source": [
    "## Context"
   ]
  },
  {
   "cell_type": "code",
   "execution_count": 2,
   "id": "b69765a2-aea5-4b7a-a271-f85383ecb8b3",
   "metadata": {},
   "outputs": [],
   "source": [
    "f_context = open('mock_data/test_prop_grap_data_001.json')\n",
    "context = json.load(f_context)"
   ]
  },
  {
   "cell_type": "code",
   "execution_count": 3,
   "id": "613da105-02a6-4886-9d7a-dc3327acd3c1",
   "metadata": {},
   "outputs": [],
   "source": [
    "context_list=context[\"context\"].replace(\" \",\"\").split(\";\")[0:-1]"
   ]
  },
  {
   "cell_type": "markdown",
   "id": "772513e1-70e5-4110-85bd-7ac035825762",
   "metadata": {},
   "source": [
    "## Node Dictionary"
   ]
  },
  {
   "cell_type": "code",
   "execution_count": 4,
   "id": "df474efe-ba8f-4ce9-b1ec-ba5882c1411a",
   "metadata": {},
   "outputs": [],
   "source": [
    "f_output = open('mock_data/test_prop_graph_001.json')\n",
    "data = json.load(f_output)"
   ]
  },
  {
   "cell_type": "code",
   "execution_count": 5,
   "id": "3b317377-8ffd-4538-8de3-b5fa8581ea7f",
   "metadata": {},
   "outputs": [
    {
     "data": {
      "text/plain": [
       "dict_keys(['context', 'facts', 'graph', 'dilemmas'])"
      ]
     },
     "execution_count": 5,
     "metadata": {},
     "output_type": "execute_result"
    }
   ],
   "source": [
    "data.keys()"
   ]
  },
  {
   "cell_type": "code",
   "execution_count": 6,
   "id": "4515226c-0f76-47ef-80cc-3b694140c32a",
   "metadata": {},
   "outputs": [
    {
     "data": {
      "text/plain": [
       "['c', 'e', 'f', '-x', 'y', 'z']"
      ]
     },
     "execution_count": 6,
     "metadata": {},
     "output_type": "execute_result"
    }
   ],
   "source": [
    "nodes=list(data[\"graph\"].keys())\n",
    "nodes"
   ]
  },
  {
   "cell_type": "code",
   "execution_count": 7,
   "id": "452641da-ede5-41d7-8612-c095004a3744",
   "metadata": {},
   "outputs": [
    {
     "data": {
      "text/plain": [
       "['z', 'y', '-x', 'f', 'e', 'c']"
      ]
     },
     "execution_count": 7,
     "metadata": {},
     "output_type": "execute_result"
    }
   ],
   "source": [
    "nodes_reverse=nodes[::-1]\n",
    "nodes_reverse"
   ]
  },
  {
   "cell_type": "code",
   "execution_count": 8,
   "id": "20d77713-7d03-4948-85db-8f118b18391b",
   "metadata": {},
   "outputs": [
    {
     "data": {
      "text/plain": [
       "'y'"
      ]
     },
     "execution_count": 8,
     "metadata": {},
     "output_type": "execute_result"
    }
   ],
   "source": [
    "data[\"graph\"][\"z\"][0][\"body\"][0][\"name\"]"
   ]
  },
  {
   "cell_type": "code",
   "execution_count": 9,
   "id": "33277733-e310-4540-ab0a-f62f1e153956",
   "metadata": {},
   "outputs": [],
   "source": [
    "node_rules=dict()\n",
    "rules=dict()"
   ]
  },
  {
   "cell_type": "code",
   "execution_count": 10,
   "id": "d59b3c5e-174e-429c-963a-ba172e662443",
   "metadata": {},
   "outputs": [],
   "source": [
    "for node in nodes_reverse:\n",
    "    \n",
    "    length=len(data[\"graph\"][node])\n",
    "    \n",
    "    rules_list=[]\n",
    "    for rule_id in range(length):\n",
    "        rule_name=data[\"graph\"][node][rule_id][\"name\"]\n",
    "        rules_list.append(rule_name)\n",
    "\n",
    "        sub_nodes=[]\n",
    "        for item in data[\"graph\"][node][rule_id][\"body\"]:\n",
    "            if item[\"sign\"]==True:\n",
    "                sub_node=item[\"name\"]\n",
    "            else:\n",
    "                sub_node=\"-\"+item[\"name\"]\n",
    "            sub_nodes.append(sub_node)\n",
    "        rules[rule_name]=sub_nodes\n",
    "    \n",
    "    node_rules[node]=rules_list"
   ]
  },
  {
   "cell_type": "code",
   "execution_count": 11,
   "id": "6845fe82-29b7-4a34-9f8d-1fc8f59ff6ca",
   "metadata": {},
   "outputs": [
    {
     "data": {
      "text/plain": [
       "{'z': ['R8'],\n",
       " 'y': ['R6', 'R7'],\n",
       " '-x': ['R5'],\n",
       " 'f': ['R3'],\n",
       " 'e': ['R2'],\n",
       " 'c': ['R1']}"
      ]
     },
     "execution_count": 11,
     "metadata": {},
     "output_type": "execute_result"
    }
   ],
   "source": [
    "node_rules"
   ]
  },
  {
   "cell_type": "code",
   "execution_count": 12,
   "id": "afa86d80-5f73-430a-96d1-f8911c5c56c5",
   "metadata": {},
   "outputs": [
    {
     "data": {
      "text/plain": [
       "{'R8': ['y', 'f', 'g'],\n",
       " 'R6': ['a', 'd', 'e', '-x'],\n",
       " 'R7': ['e', 'g'],\n",
       " 'R5': ['a', 'c'],\n",
       " 'R3': ['a', 'd', 'e'],\n",
       " 'R2': ['c', 'd'],\n",
       " 'R1': ['a', 'b']}"
      ]
     },
     "execution_count": 12,
     "metadata": {},
     "output_type": "execute_result"
    }
   ],
   "source": [
    "rules"
   ]
  },
  {
   "cell_type": "markdown",
   "id": "93f7076a-d8f7-4a30-9891-421a57c53f75",
   "metadata": {},
   "source": [
    "## Graph Builder"
   ]
  },
  {
   "cell_type": "code",
   "execution_count": 13,
   "id": "f2149b89-a08e-4791-af02-9730cbe965bf",
   "metadata": {},
   "outputs": [],
   "source": [
    "graph=[]\n",
    "global graph\n",
    "\n",
    "def graph_builder(start_point,node_rules, rules):\n",
    "    temp_rules=node_rules[start_point]\n",
    "    for temp_rule in temp_rules:\n",
    "        edge=temp_rule+\",\"+start_point\n",
    "        graph.append(edge)\n",
    "    for temp_rule in temp_rules:    \n",
    "        nodes=rules[temp_rule]\n",
    "        for node in nodes:\n",
    "            edge=node+\",\"+temp_rule\n",
    "            graph.append(edge)\n",
    "            \n",
    "    for temp_rule in temp_rules:    \n",
    "        nodes=rules[temp_rule]\n",
    "        for node in nodes: \n",
    "            if node not in context_list:\n",
    "                graph_builder(node,node_rules, rules)"
   ]
  },
  {
   "cell_type": "code",
   "execution_count": 14,
   "id": "cd904bee-5e5e-4342-90df-ee90b71e00a5",
   "metadata": {},
   "outputs": [],
   "source": [
    "start_point=list(node_rules.keys())[0]"
   ]
  },
  {
   "cell_type": "code",
   "execution_count": 15,
   "id": "43607ce9-727b-4e08-91e6-1274881de373",
   "metadata": {},
   "outputs": [],
   "source": [
    "graph_builder(start_point,node_rules, rules)"
   ]
  },
  {
   "cell_type": "code",
   "execution_count": 16,
   "id": "25678d96-ed03-4266-a195-14e1ceda0ee1",
   "metadata": {},
   "outputs": [],
   "source": [
    "G = pgv.AGraph()"
   ]
  },
  {
   "cell_type": "code",
   "execution_count": 17,
   "id": "eebc522e-fb2f-4e8c-98a5-b481f6ced1c0",
   "metadata": {},
   "outputs": [],
   "source": [
    "for edge in graph:\n",
    "    start_node_=edge.split(\",\")[0]\n",
    "    end_node_=edge.split(\",\")[1]\n",
    "    G.add_edge(start_node_,end_node_)"
   ]
  },
  {
   "cell_type": "code",
   "execution_count": 18,
   "id": "9d278805-b464-409c-8a17-5f12b672b784",
   "metadata": {},
   "outputs": [],
   "source": [
    "G.layout()\n",
    "G.draw(\"file.png\")"
   ]
  }
 ],
 "metadata": {
  "kernelspec": {
   "display_name": "Python 3 (ipykernel)",
   "language": "python",
   "name": "python3"
  },
  "language_info": {
   "codemirror_mode": {
    "name": "ipython",
    "version": 3
   },
   "file_extension": ".py",
   "mimetype": "text/x-python",
   "name": "python",
   "nbconvert_exporter": "python",
   "pygments_lexer": "ipython3",
   "version": "3.8.13"
  }
 },
 "nbformat": 4,
 "nbformat_minor": 5
}
