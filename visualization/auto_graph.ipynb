{
 "cells": [
  {
   "cell_type": "code",
   "execution_count": 1,
   "id": "2f17a5a2-41ae-489a-943c-79ecdc8a1004",
   "metadata": {},
   "outputs": [],
   "source": [
    "import json\n",
    "import pygraphviz as pgv\n",
    "import networkx as nx"
   ]
  },
  {
   "cell_type": "markdown",
   "id": "18b6129c-e76a-4984-9641-b0ece5f2a001",
   "metadata": {
    "tags": []
   },
   "source": [
    "## Import JSON"
   ]
  },
  {
   "cell_type": "code",
   "execution_count": 2,
   "id": "7e0e0506-f547-4454-97c2-8791aa18624e",
   "metadata": {},
   "outputs": [],
   "source": [
    "f_output = open('mock_data/test_003.json')\n",
    "data = json.load(f_output)"
   ]
  },
  {
   "cell_type": "markdown",
   "id": "93f7076a-d8f7-4a30-9891-421a57c53f75",
   "metadata": {
    "tags": []
   },
   "source": [
    "## Function Definition"
   ]
  },
  {
   "cell_type": "code",
   "execution_count": 3,
   "id": "91be1359-d24c-4138-ac78-c1d030636e33",
   "metadata": {},
   "outputs": [],
   "source": [
    "# data[\"graph\"]"
   ]
  },
  {
   "cell_type": "markdown",
   "id": "31e3c048-0061-41d7-a975-19cefbb1f92f",
   "metadata": {},
   "source": [
    "## Extract Nodes and Edges"
   ]
  },
  {
   "cell_type": "code",
   "execution_count": 4,
   "id": "8f4eaf05-b368-4059-ae50-88a77af5ed4f",
   "metadata": {},
   "outputs": [],
   "source": [
    "rule_node_ls=[]\n",
    "edges_ls=[]\n",
    "\n",
    "keys=data[\"graph\"].keys()\n",
    "for key in keys:\n",
    "    rule=data[\"graph\"][key]\n",
    "    for dict_id in range(len(rule)):\n",
    "        #rule level\n",
    "        rule_node_ls.append(rule[dict_id][\"name\"])\n",
    "        \n",
    "        #body\n",
    "        rule_body=rule[dict_id][\"body\"]\n",
    "        for literal in rule_body:\n",
    "            if literal[\"sign\"] == False:\n",
    "                edges_ls.append((\"-\"+literal[\"name\"], rule[dict_id][\"name\"]))\n",
    "            else:\n",
    "                edges_ls.append((literal[\"name\"], rule[dict_id][\"name\"]))\n",
    "        #head \n",
    "        rule_head=rule[dict_id][\"head\"]\n",
    "        if rule_head[\"sign\"]==False:\n",
    "            edges_ls.append((rule[dict_id][\"name\"],\"-\"+rule_head[\"name\"]))\n",
    "        else:\n",
    "            edges_ls.append((rule[dict_id][\"name\"],rule_head[\"name\"]))"
   ]
  },
  {
   "cell_type": "code",
   "execution_count": 5,
   "id": "18119a4b-122f-4eac-b978-5d9f70e7df4c",
   "metadata": {},
   "outputs": [
    {
     "data": {
      "text/plain": [
       "[('a', 'r1'), ('b', 'r1'), ('r1', 'e'), ('d', 'r3'), ('e', 'r3'), ('r3', 'z')]"
      ]
     },
     "execution_count": 5,
     "metadata": {},
     "output_type": "execute_result"
    }
   ],
   "source": [
    "edges_ls"
   ]
  },
  {
   "cell_type": "code",
   "execution_count": 6,
   "id": "691a25e0-789b-44ff-a9c0-2bf8be797ab0",
   "metadata": {},
   "outputs": [
    {
     "data": {
      "text/plain": [
       "['r1', 'r3']"
      ]
     },
     "execution_count": 6,
     "metadata": {},
     "output_type": "execute_result"
    }
   ],
   "source": [
    "rule_node_ls"
   ]
  },
  {
   "cell_type": "code",
   "execution_count": 7,
   "id": "f73b512b-f824-4408-9623-9a951770b217",
   "metadata": {},
   "outputs": [],
   "source": [
    "# for edge in edges_ls:\n",
    "#     start_node=edge[0]\n",
    "#     end_node=edge[1]\n",
    "#     print('\"{}\"'.format(start_node)+\" -> \"+'\"{}\"'.format(end_node))"
   ]
  },
  {
   "cell_type": "markdown",
   "id": "048f39e5-3f9d-43fe-93a9-bd05adf9b897",
   "metadata": {},
   "source": [
    "## Add Layer Information"
   ]
  },
  {
   "cell_type": "code",
   "execution_count": 8,
   "id": "f2332039-8a22-4a51-aab3-21305ebf09d8",
   "metadata": {},
   "outputs": [],
   "source": [
    "node_layer={}"
   ]
  },
  {
   "cell_type": "code",
   "execution_count": 9,
   "id": "8c1b01a2-7435-4574-a51f-1299fb95119d",
   "metadata": {},
   "outputs": [],
   "source": [
    "context=[]\n",
    "\n",
    "for con_info in data[\"context\"]:\n",
    "    context.append(con_info[\"name\"])\n",
    "    node_layer[con_info[\"name\"]]=0"
   ]
  },
  {
   "cell_type": "code",
   "execution_count": 10,
   "id": "2958fe1b-eb64-455c-9eda-8179dcb5cdcb",
   "metadata": {},
   "outputs": [
    {
     "data": {
      "text/plain": [
       "{'a': 0, 'b': 0, 'c': 0, 'd': 0}"
      ]
     },
     "execution_count": 10,
     "metadata": {},
     "output_type": "execute_result"
    }
   ],
   "source": [
    "node_layer"
   ]
  },
  {
   "cell_type": "code",
   "execution_count": 11,
   "id": "019edd72-c60a-4c1a-9705-a55a266b45ad",
   "metadata": {},
   "outputs": [],
   "source": [
    "rule_body={}\n",
    "rule_head={}\n",
    "\n",
    "for rule_id in rule_node_ls:\n",
    "    rule_body_literals=[]\n",
    "    for edge in edges_ls :\n",
    "        if rule_id == edge[1]:\n",
    "            rule_body_literals.append(edge[0])\n",
    "        if rule_id ==edge[0]:\n",
    "            rule_head_literals=edge[1]\n",
    "        \n",
    "    rule_body[rule_id]=rule_body_literals\n",
    "    rule_head[rule_id]=rule_head_literals"
   ]
  },
  {
   "cell_type": "code",
   "execution_count": 12,
   "id": "9a82cc73-d91b-47aa-8a71-ef8d2167db90",
   "metadata": {},
   "outputs": [
    {
     "data": {
      "text/plain": [
       "{'r1': ['a', 'b'], 'r3': ['d', 'e']}"
      ]
     },
     "execution_count": 12,
     "metadata": {},
     "output_type": "execute_result"
    }
   ],
   "source": [
    "rule_body"
   ]
  },
  {
   "cell_type": "code",
   "execution_count": 13,
   "id": "f5233f6e-300e-48db-868c-b09f0ea01671",
   "metadata": {},
   "outputs": [
    {
     "data": {
      "text/plain": [
       "{'r1': 'e', 'r3': 'z'}"
      ]
     },
     "execution_count": 13,
     "metadata": {},
     "output_type": "execute_result"
    }
   ],
   "source": [
    "rule_head"
   ]
  },
  {
   "cell_type": "code",
   "execution_count": 14,
   "id": "3b61dcb4-1b7e-4af1-836f-5604e2dbc415",
   "metadata": {},
   "outputs": [],
   "source": [
    "def layer_assign(rule_node_ls, rule_body, rule_head, node_layer):\n",
    "    if len(rule_node_ls)!=0:\n",
    "        for rule_id in rule_node_ls:\n",
    "            rule_body_literals=rule_body[rule_id]\n",
    "            assigned_nodes=list(node_layer.keys())\n",
    "            is_subset = set(rule_body_literals).issubset(set(assigned_nodes))\n",
    "            if is_subset==True:\n",
    "                layer_info=[node_layer[key] for key in rule_body_literals]\n",
    "                node_layer[rule_id]=max(layer_info)+1\n",
    "                node_layer[rule_head[rule_id]]=max(layer_info)+2\n",
    "                rule_node_ls.remove(rule_id)\n",
    "        layer_assign(rule_node_ls, rule_body, rule_head, node_layer)\n",
    "    else:\n",
    "        return(node_layer)"
   ]
  },
  {
   "cell_type": "code",
   "execution_count": 15,
   "id": "fb1485b7-6526-4851-9790-97694f773d5f",
   "metadata": {},
   "outputs": [],
   "source": [
    "layer_assign(rule_node_ls, rule_body, rule_head, node_layer)"
   ]
  },
  {
   "cell_type": "code",
   "execution_count": 16,
   "id": "cd8bc52f-86d3-4bcc-acf4-77d436b3396c",
   "metadata": {},
   "outputs": [
    {
     "data": {
      "text/plain": [
       "{'a': 0, 'b': 0, 'c': 0, 'd': 0, 'r1': 1, 'e': 2, 'r3': 3, 'z': 4}"
      ]
     },
     "execution_count": 16,
     "metadata": {},
     "output_type": "execute_result"
    }
   ],
   "source": [
    "node_layer"
   ]
  },
  {
   "cell_type": "markdown",
   "id": "4ef4d05e-4308-4289-b438-135cc685f24a",
   "metadata": {},
   "source": [
    "## Graph Construction"
   ]
  },
  {
   "cell_type": "code",
   "execution_count": 17,
   "id": "e08ab52e-ecd1-4707-83b4-eaadeb0b3e75",
   "metadata": {},
   "outputs": [],
   "source": [
    "G = nx.DiGraph(rankdir=\"LR\")\n",
    "\n",
    "## add node\n",
    "for node in list(node_layer.keys()):\n",
    "    if node[0]==\"R\" or node[0]==\"r\":\n",
    "        G.add_node(node, shape=\"box\",style=\"rounded\")\n",
    "    else:\n",
    "        if node[0]==\"-\":\n",
    "            G.add_node(node[1:], color=\"#ff6262\",style=\"filled\")\n",
    "        else:\n",
    "            G.add_node(node, color=\"#a2e665\",style=\"filled\")\n",
    "\n",
    "#add edge\n",
    "for edge in edges_ls:\n",
    "    if edge[0][0]==\"-\":  # negation to rule\n",
    "        G.add_edge(edge[0][1:], edge[1], color=\"#ff6262\")\n",
    "    elif edge[0][0]!=\"R\" or edge[0][0]!=\"r\": # positive literal to rule\n",
    "        G.add_edge(edge[0], edge[1],color=\"#a2e665\")\n",
    "    else: # rule to literal\n",
    "        if edge[1][0]==\"-\":\n",
    "            G.add_edge(edge[0], edge[1][1:],color=\"#ff6262\")\n",
    "        else:\n",
    "            G.add_edge(edge[0], edge[1],color=\"#a2e665\")\n",
    "\n",
    "#add rank\n",
    "A = nx.nx_agraph.to_agraph(G)\n",
    "\n",
    "for layer_id in set(node_layer.values()):\n",
    "    node_ls=[node for node,layer in node_layer.items() if layer ==layer_id]\n",
    "    A.add_subgraph(node_ls,rank='same')\n",
    "\n",
    "A.draw(\"file.png\",prog=\"dot\")"
   ]
  }
 ],
 "metadata": {
  "kernelspec": {
   "display_name": "Python 3 (ipykernel)",
   "language": "python",
   "name": "python3"
  },
  "language_info": {
   "codemirror_mode": {
    "name": "ipython",
    "version": 3
   },
   "file_extension": ".py",
   "mimetype": "text/x-python",
   "name": "python",
   "nbconvert_exporter": "python",
   "pygments_lexer": "ipython3",
   "version": "3.8.13"
  }
 },
 "nbformat": 4,
 "nbformat_minor": 5
}
